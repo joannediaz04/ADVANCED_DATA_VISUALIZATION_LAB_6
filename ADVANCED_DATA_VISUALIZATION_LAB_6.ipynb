{
  "nbformat": 4,
  "nbformat_minor": 0,
  "metadata": {
    "colab": {
      "provenance": [],
      "authorship_tag": "ABX9TyPIUZAK3uVdhuaDT2o2+n3s",
      "include_colab_link": true
    },
    "kernelspec": {
      "name": "python3",
      "display_name": "Python 3"
    },
    "language_info": {
      "name": "python"
    }
  },
  "cells": [
    {
      "cell_type": "markdown",
      "metadata": {
        "id": "view-in-github",
        "colab_type": "text"
      },
      "source": [
        "<a href=\"https://colab.research.google.com/github/joannediaz04/ADVANCED_DATA_VISUALIZATION_LAB_6/blob/main/ADVANCED_DATA_VISUALIZATION_LAB_6.ipynb\" target=\"_parent\"><img src=\"https://colab.research.google.com/assets/colab-badge.svg\" alt=\"Open In Colab\"/></a>"
      ]
    },
    {
      "cell_type": "code",
      "execution_count": 1,
      "metadata": {
        "colab": {
          "base_uri": "https://localhost:8080/"
        },
        "id": "zMRcJEheQtnH",
        "outputId": "6af290f4-dd73-4daa-eb90-144944f243b6"
      },
      "outputs": [
        {
          "output_type": "stream",
          "name": "stdout",
          "text": [
            "Hello! Please enter your name:\n",
            "Joanne\n",
            "Enter your age:\n",
            "21\n",
            "Enter your weight (in kg):\n",
            "38\n",
            "Enter your height (in cm):\n",
            "145\n",
            "There are your inputs:\n",
            "Joanne\n",
            "21  years old\n",
            "145.0 cm\n",
            "38.0 kg\n",
            "BMI Diagnosis: Underweight\n"
          ]
        }
      ],
      "source": [
        "print(\"Hello! Please enter your name:\")\n",
        "name = input()\n",
        "print(\"Enter your age:\")\n",
        "age = int(input())\n",
        "print(\"Enter your weight (in kg):\")\n",
        "weight = float(input())\n",
        "print(\"Enter your height (in cm):\")\n",
        "height = float(input())\n",
        "\n",
        "print(\"There are your inputs:\")\n",
        "print(name)\n",
        "print(age , \" years old\")\n",
        "print(height , \"cm\")\n",
        "print(weight , \"kg\")\n",
        "\n",
        "bmiCompute = weight / ((height/100) * (height/100))\n",
        "if(bmiCompute < 18.5):\n",
        "  print(\"BMI Diagnosis: Underweight\")\n",
        "elif(bmiCompute < 24.9):\n",
        "  print(\"BMI Diagnosis: Normal/Healthy\")\n",
        "elif(bmiCompute < 29.9):\n",
        "  print(\"BMI Diagnosis: Overweight\")\n",
        "elif(bmiCompute > 30):\n",
        "  print(\"BMI Diagnosis: Obese\")"
      ]
    }
  ]
}